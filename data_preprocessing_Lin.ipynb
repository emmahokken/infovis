{
 "cells": [
  {
   "cell_type": "code",
   "execution_count": 54,
   "metadata": {},
   "outputs": [],
   "source": [
    "import pandas as pd\n",
    "import matplotlib.pyplot as plt\n",
    "import re"
   ]
  },
  {
   "cell_type": "code",
   "execution_count": 78,
   "metadata": {},
   "outputs": [],
   "source": [
    "# Read metalevelmeta data\n",
    "data_level = pd.read_csv('omniart_data/metalevelmeta.csv')\n",
    "data_level.set_index('omni_id', inplace=True)\n",
    "data_level = data_level.loc[~data_level.index.duplicated(keep='first')] # Remove duplicates\n",
    "# Read metadatas\n",
    "data_meta = pd.read_csv('omniart_data/metadatas.csv')\n",
    "data_meta.set_index('omni_id', inplace=True)\n",
    "data_meta = data_meta.loc[~data_meta.index.duplicated(keep='first')]\n",
    "# Concatenate useful columns\n",
    "result = pd.concat([data_level['textual_description'], data_level['iconclass_codes'], data_level['concepts'],\n",
    "                   data_meta['artwork_name'], data_meta['artist_full_name'], data_meta['creation_year'],\n",
    "                   data_meta['source_url'], data_meta['image_url'], data_meta['school']], axis=1, sort=False)\n",
    "# Save to csv\n",
    "result.to_csv('metadata_unclean.csv')"
   ]
  },
  {
   "cell_type": "code",
   "execution_count": 55,
   "metadata": {},
   "outputs": [
    {
     "data": {
      "text/plain": [
       "0            Fin\n",
       "1            Fin\n",
       "2        Florida\n",
       "3          Japan\n",
       "4    Puerto Rico\n",
       "5         Russia\n",
       "6         france\n",
       "dtype: object"
      ]
     },
     "execution_count": 55,
     "metadata": {},
     "output_type": "execute_result"
    }
   ],
   "source": [
    "def replace_regex(regexs, S):\n",
    "    # Replace\n",
    "    for regex in regexs:\n",
    "        S.replace(regex[0], regex[1],regex=True, inplace = True)\n",
    "    return S\n",
    "\n",
    "replace_regex(regexs, S)"
   ]
  },
  {
   "cell_type": "code",
   "execution_count": 19,
   "metadata": {},
   "outputs": [
    {
     "data": {
      "text/plain": [
       "unknown                                 662420\n",
       "london                                  380278\n",
       "modern                                  184195\n",
       "paris                                    79474\n",
       "new york                                 37413\n",
       "                                         ...  \n",
       "brabant                                      1\n",
       "printed for j. tonson; and m. tonson         1\n",
       "pariz                                        1\n",
       "canton                                       1\n",
       "watford                                      1\n",
       "Name: school, Length: 4428, dtype: int64"
      ]
     },
     "execution_count": 19,
     "metadata": {},
     "output_type": "execute_result"
    }
   ],
   "source": [
    "data_meta['school'].value_counts()"
   ]
  },
  {
   "cell_type": "code",
   "execution_count": 31,
   "metadata": {},
   "outputs": [
    {
     "name": "stdout",
     "output_type": "stream",
     "text": [
      "unknown 662420\n",
      "london 380278\n",
      "modern 184195\n",
      "paris 79474\n",
      "new york 37413\n",
      "british 34348\n"
     ]
    }
   ],
   "source": [
    "counter = 0\n",
    "\n",
    "freq = dict(data_meta['school'].value_counts())\n",
    "for key in list(freq):\n",
    "    print(key, freq[key])\n",
    "    if counter == 5:\n",
    "        break\n",
    "    counter +=1\n"
   ]
  },
  {
   "cell_type": "code",
   "execution_count": null,
   "metadata": {},
   "outputs": [],
   "source": [
    "# To Remove:\n",
    "remove = ['unknown', 'modern']\n",
    "\n",
    "# Correct:\n",
    "correct = ['london', 'paris']\n",
    "\n",
    "replace = []"
   ]
  },
  {
   "cell_type": "code",
   "execution_count": 30,
   "metadata": {},
   "outputs": [
    {
     "ename": "KeyError",
     "evalue": "'unknown'",
     "output_type": "error",
     "traceback": [
      "\u001b[1;31m---------------------------------------------------------------------------\u001b[0m",
      "\u001b[1;31mKeyError\u001b[0m                                  Traceback (most recent call last)",
      "\u001b[1;32m<ipython-input-30-24bd2727d0b2>\u001b[0m in \u001b[0;36m<module>\u001b[1;34m\u001b[0m\n\u001b[1;32m----> 1\u001b[1;33m \u001b[1;32mdel\u001b[0m \u001b[0mfreq\u001b[0m\u001b[1;33m[\u001b[0m\u001b[1;34m'unknown'\u001b[0m\u001b[1;33m]\u001b[0m\u001b[1;33m\u001b[0m\u001b[1;33m\u001b[0m\u001b[0m\n\u001b[0m\u001b[0;32m      2\u001b[0m \u001b[0mfreq\u001b[0m\u001b[1;33m\u001b[0m\u001b[1;33m\u001b[0m\u001b[0m\n",
      "\u001b[1;31mKeyError\u001b[0m: 'unknown'"
     ]
    }
   ],
   "source": [
    "# del freq['unknown']\n",
    "freq"
   ]
  },
  {
   "cell_type": "code",
   "execution_count": 53,
   "metadata": {},
   "outputs": [
    {
     "data": {
      "text/plain": [
       "0            Fin\n",
       "1            Fin\n",
       "2        Florida\n",
       "3          Japan\n",
       "4    Puerto Rico\n",
       "5         Russia\n",
       "6         france\n",
       "dtype: object"
      ]
     },
     "execution_count": 53,
     "metadata": {},
     "output_type": "execute_result"
    }
   ],
   "source": [
    "# Remove the dash(-) followed by number from all countries in the Series\n",
    "S=pd.Series(['Finland-1','finland-2','Florida-3','Japan-4','Puerto Rico-5','Russia-6','france-7'])\n",
    "S.replace('(-\\d)','',regex=True, inplace = True)\n",
    "\n",
    "# regex\n",
    "regexs = [(re.compile(r'finland', flags=re.IGNORECASE), 'Fin')]\n",
    "\n",
    "def replace_regex(regexs, S):\n",
    "    # Replace\n",
    "    for regex in regexs:\n",
    "        S.replace(regex[0], regex[1],regex=True, inplace = True)\n",
    "    return S\n",
    "\n",
    "replace_regex(regexs, S)\n",
    "S"
   ]
  },
  {
   "cell_type": "code",
   "execution_count": null,
   "metadata": {},
   "outputs": [],
   "source": []
  },
  {
   "cell_type": "code",
   "execution_count": null,
   "metadata": {},
   "outputs": [],
   "source": []
  }
 ],
 "metadata": {
  "kernelspec": {
   "display_name": "Python 3",
   "language": "python",
   "name": "python3"
  },
  "language_info": {
   "codemirror_mode": {
    "name": "ipython",
    "version": 3
   },
   "file_extension": ".py",
   "mimetype": "text/x-python",
   "name": "python",
   "nbconvert_exporter": "python",
   "pygments_lexer": "ipython3",
   "version": "3.7.6"
  }
 },
 "nbformat": 4,
 "nbformat_minor": 2
}
