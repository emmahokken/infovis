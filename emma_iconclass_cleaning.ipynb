{
 "cells": [
  {
   "cell_type": "code",
   "execution_count": 23,
   "metadata": {},
   "outputs": [],
   "source": [
    "import pandas as pd\n",
    "from collections import Counter \n"
   ]
  },
  {
   "cell_type": "code",
   "execution_count": 14,
   "metadata": {},
   "outputs": [
    {
     "name": "stderr",
     "output_type": "stream",
     "text": [
      "/anaconda3/lib/python3.7/site-packages/IPython/core/interactiveshell.py:3049: DtypeWarning: Columns (3) have mixed types. Specify dtype option on import or set low_memory=False.\n",
      "  interactivity=interactivity, compiler=compiler, result=result)\n"
     ]
    }
   ],
   "source": [
    "df = pd.read_csv('../metadata_dummy_countries_id_3.csv')\n"
   ]
  },
  {
   "cell_type": "code",
   "execution_count": 22,
   "metadata": {},
   "outputs": [
    {
     "name": "stdout",
     "output_type": "stream",
     "text": [
      "31A2621(+51), 46C232, 25H111, 41D27, 45C13(SWORD), 33B5, 31D14(+72), 95A(HECTOR)5, 31A534, 26A, 25G3, 45C221, 41D2656, 31A(+75), 41D233(+81), 31A2512(+934), 45C22, 45B, 95A(AJAX THE GREAT)5, 33A4, 31A2512(+933)\n"
     ]
    }
   ],
   "source": [
    "print(df['iconclass_codes'][1])"
   ]
  },
  {
   "cell_type": "code",
   "execution_count": 125,
   "metadata": {},
   "outputs": [],
   "source": [
    "itemclass_headcode = [[i[0] for i in ic.split(', ')] for ic in df['iconclass_codes']] \n",
    "itemclass = [Counter(head).most_common(1)[0][0] for head in itemclass_headcode]\n",
    "\n",
    "itemclass_headcode_sec = [[i[:2] for i in ic.split(', ')] for ic in df['iconclass_codes']] \n",
    "itemclass_sec = [Counter(head).most_common(1)[0][0] for head in itemclass_headcode_sec]"
   ]
  },
  {
   "cell_type": "code",
   "execution_count": 127,
   "metadata": {},
   "outputs": [],
   "source": [
    "df['iconclass'] = itemclass\n",
    "df['iconclass_secondary'] = itemclass_sec"
   ]
  },
  {
   "cell_type": "code",
   "execution_count": 128,
   "metadata": {
    "scrolled": true
   },
   "outputs": [],
   "source": [
    "df.to_csv('../metadata_dummy.csv')\n"
   ]
  },
  {
   "cell_type": "code",
   "execution_count": 129,
   "metadata": {},
   "outputs": [
    {
     "name": "stderr",
     "output_type": "stream",
     "text": [
      "/anaconda3/lib/python3.7/site-packages/IPython/core/interactiveshell.py:3049: DtypeWarning: Columns (1,6) have mixed types. Specify dtype option on import or set low_memory=False.\n",
      "  interactivity=interactivity, compiler=compiler, result=result)\n"
     ]
    }
   ],
   "source": [
    "df = pd.read_csv('../schooldata_f4000.csv')"
   ]
  },
  {
   "cell_type": "code",
   "execution_count": 132,
   "metadata": {},
   "outputs": [],
   "source": [
    "import webcolors"
   ]
  },
  {
   "cell_type": "code",
   "execution_count": 149,
   "metadata": {},
   "outputs": [],
   "source": [
    "dc = df['dominant_color'][0]\n",
    "\n",
    "def closest_colour(requested_colour):\n",
    "    min_colours = {}\n",
    "    for key, name in webcolors.CSS3_HEX_TO_NAMES.items():\n",
    "        r_c, g_c, b_c = webcolors.hex_to_rgb(key)\n",
    "        rd = (r_c - requested_colour[0]) ** 2\n",
    "        gd = (g_c - requested_colour[1]) ** 2\n",
    "        bd = (b_c - requested_colour[2]) ** 2\n",
    "        min_colours[(rd + gd + bd)] = name\n",
    "    return min_colours[min(min_colours.keys())]\n",
    "\n",
    "def get_colour_name(requested_colour):\n",
    "    try:\n",
    "        closest_name = actual_name = webcolors.hex_to_name(requested_colour)\n",
    "    except ValueError:\n",
    "        requested_colour = webcolors.hex_to_rgb(requested_colour)\n",
    "        closest_name = closest_colour(requested_colour)\n",
    "        actual_name = None\n",
    "    return actual_name, closest_name\n",
    "\n"
   ]
  },
  {
   "cell_type": "code",
   "execution_count": 190,
   "metadata": {},
   "outputs": [],
   "source": [
    "all_colors = {\n",
    "    'red': ['INDIANRED',\n",
    "            'LIGHTCORAL',\n",
    "            'SALMON',\n",
    "            'DARKSALMON',\n",
    "            'LIGHTSALMON',\n",
    "            'CRIMSON',\n",
    "            'RED',\n",
    "            'FIREBRICK', \n",
    "            'DARKRED'],\n",
    "    'pink': ['PINK',\n",
    "            'LIGHTPINK',\n",
    "            'HOTPINK',\n",
    "            'DEEPPINK',\n",
    "            'MEDIUMVIOLETRED',\n",
    "            'PALEVIOLETRED'],\n",
    "    'orange': ['LIGHTSALMON',\n",
    "            'CORAL',\n",
    "            'TOMATO',\n",
    "            'ORANGERED',\n",
    "            'DARKORANGE',\n",
    "            'ORANGE'],\n",
    "    'yellow': ['GOLD',\n",
    "            'YELLOW',\n",
    "            'LIGHTYELLOW',\n",
    "            'LEMONCHIFFON',\n",
    "            'LIGHTGOLDENRODYELLOW',\n",
    "            'PAPAYAWHIP',\n",
    "            'MOCCASIN',\n",
    "            'PEACHPUFF',\n",
    "            'PALEGOLDENROD',\n",
    "            'KHAKI',\n",
    "            'DARKKHAKI'],\n",
    "    'purple': ['LAVENDER',\n",
    "            'THISTLE',\n",
    "            'PLUM',\n",
    "            'VIOLET',\n",
    "            'ORCHID',\n",
    "            'FUCHSIA',\n",
    "            'MAGENTA',\n",
    "            'MEDIUMORCHID',\n",
    "            'MEDIUMPURPLE',\n",
    "            'REBECCAPURPLE',\n",
    "            'BLUEVIOLET',\n",
    "            'DARKVIOLET',\n",
    "            'DARKORCHID',\n",
    "            'DARKMAGENTA',\n",
    "            'PURPLE',\n",
    "            'INDIGO',\n",
    "            'SLATEBLUE',\n",
    "            'DARKSLATEBLUE',\n",
    "            'MEDIUMSLATEBLUE'],\n",
    "    'green': ['GREENYELLOW',\n",
    "            'CHARTREUSE',\n",
    "            'LAWNGREEN',\n",
    "            'LIME',\n",
    "            'LIMEGREEN',\n",
    "            'PALEGREEN',\n",
    "            'LIGHTGREEN',\n",
    "            'MEDIUMSPRINGGREEN',\n",
    "            'SPRINGGREEN',\n",
    "            'MEDIUMSEAGREEN',\n",
    "            'SEAGREEN',\n",
    "            'FORESTGREEN',\n",
    "            'GREEN',\n",
    "            'DARKGREEN',\n",
    "            'YELLOWGREEN',\n",
    "            'OLIVEDRAB',\n",
    "            'OLIVE',\n",
    "            'DARKOLIVEGREEN',\n",
    "            'MEDIUMAQUAMARINE',\n",
    "            'DARKSEAGREEN',\n",
    "            'LIGHTSEAGREEN',\n",
    "            'DARKCYAN',\n",
    "            'TEAL'],\n",
    "    'blue': ['AQUA',\n",
    "            'CYAN',\n",
    "            'LIGHTCYAN',\n",
    "            'PALETURQUOISE',\n",
    "            'AQUAMARINE',\n",
    "            'TURQUOISE',\n",
    "            'MEDIUMTURQUOISE',\n",
    "            'DARKTURQUOISE',\n",
    "            'CADETBLUE',\n",
    "            'STEELBLUE',\n",
    "            'LIGHTSTEELBLUE',\n",
    "            'POWDERBLUE',\n",
    "            'LIGHTBLUE',\n",
    "            'SKYBLUE',\n",
    "            'LIGHTSKYBLUE',\n",
    "            'DEEPSKYBLUE',\n",
    "            'DODGERBLUE',\n",
    "            'CORNFLOWERBLUE',\n",
    "            'MEDIUMSLATEBLUE',\n",
    "            'ROYALBLUE',\n",
    "            'BLUE',\n",
    "            'MEDIUMBLUE',\n",
    "            'DARKBLUE',\n",
    "            'NAVY',\n",
    "            'MIDNIGHTBLUE'],\n",
    "    'brown': ['CORNSILK',\n",
    "            'BLANCHEDALMOND',\n",
    "            'BISQUE',\n",
    "            'NAVAJOWHITE',\n",
    "            'WHEAT',\n",
    "            'BURLYWOOD',\n",
    "            'TAN',\n",
    "            'ROSYBROWN',\n",
    "            'SANDYBROWN',\n",
    "            'GOLDENROD',\n",
    "            'DARKGOLDENROD',\n",
    "            'PERU',\n",
    "            'CHOCOLATE',\n",
    "            'SADDLEBROWN',\n",
    "            'SIENNA',\n",
    "            'MAROON'],\n",
    "    'white': ['WHITE',\n",
    "            'SNOW',\n",
    "            'HONEYDEW',\n",
    "            'MINTCREAM',\n",
    "            'AZURE',\n",
    "            'ALICEBLUE',\n",
    "            'GHOSTWHITE',\n",
    "            'WHITESMOKE',\n",
    "            'SEASHELL',\n",
    "            'BEIGE',\n",
    "            'OLDLACE',\n",
    "            'FLORALWHITE',\n",
    "            'IVORY',\n",
    "            'ANTIQUEWHITE',\n",
    "            'LINEN',\n",
    "            'LAVENDERBLUSH',\n",
    "            'MISTYROSE'],\n",
    "        'gray': ['GAINSBORO',\n",
    "            'LIGHTGRAY',\n",
    "            'SILVER',\n",
    "            'DARKGRAY',\n",
    "            'GRAY',\n",
    "            'DIMGRAY',\n",
    "            'LIGHTSLATEGRAY',\n",
    "            'SLATEGRAY',\n",
    "            'DARKSLATEGRAY',\n",
    "            'BLACK']\n",
    "}\n",
    "\n",
    "\n",
    "\n",
    "for k, v in all_colors.items():\n",
    "    v = [c.lower() for c in v]\n",
    "    all_colors[k] = v"
   ]
  },
  {
   "cell_type": "code",
   "execution_count": 161,
   "metadata": {},
   "outputs": [],
   "source": [
    "colors = [get_colour_name(dc)[1] for dc in df['dominant_color'][:100].dropna()]\n"
   ]
  },
  {
   "cell_type": "code",
   "execution_count": 213,
   "metadata": {},
   "outputs": [
    {
     "name": "stderr",
     "output_type": "stream",
     "text": [
      "100%|██████████| 750687/750687 [05:58<00:00, 2096.04it/s]\n"
     ]
    }
   ],
   "source": [
    "from tqdm import tqdm\n",
    "\n",
    "detailed_color = []\n",
    "color = []\n",
    "\n",
    "for dc in tqdm(df['dominant_color']):\n",
    "    try:\n",
    "        c = get_colour_name(dc)[1]\n",
    "        detailed_color.append(c)\n",
    "        for k, v in all_colors.items():\n",
    "            found = False\n",
    "            if c in v:\n",
    "                color.append(k)\n",
    "                found = True\n",
    "                break\n",
    "        if not found:\n",
    "            color.append('nan')\n",
    "    except TypeError:\n",
    "        detailed_color.append('nan')\n",
    "        color.append('nan')"
   ]
  },
  {
   "cell_type": "code",
   "execution_count": 214,
   "metadata": {},
   "outputs": [],
   "source": [
    "df['detailed_color_name'] = detailed_color\n",
    "df['color_name'] = color"
   ]
  },
  {
   "cell_type": "code",
   "execution_count": null,
   "metadata": {},
   "outputs": [],
   "source": [
    "print(df.columns)\n"
   ]
  },
  {
   "cell_type": "code",
   "execution_count": 178,
   "metadata": {},
   "outputs": [
    {
     "name": "stdout",
     "output_type": "stream",
     "text": [
      "750687\n",
      "750687\n",
      "750687\n",
      "750687\n"
     ]
    }
   ],
   "source": [
    "print(len(df['school']))\n",
    "print(len(df['omni_id']))\n",
    "print(len(df['dominant_color']))\n",
    "print(len(df))"
   ]
  },
  {
   "cell_type": "code",
   "execution_count": 215,
   "metadata": {},
   "outputs": [
    {
     "name": "stdout",
     "output_type": "stream",
     "text": [
      "750687\n",
      "750687\n"
     ]
    }
   ],
   "source": [
    "print(len(detailed_color))\n",
    "print(len(color))\n"
   ]
  },
  {
   "cell_type": "code",
   "execution_count": 216,
   "metadata": {},
   "outputs": [],
   "source": [
    "df.to_csv('../school_color.csv')"
   ]
  },
  {
   "cell_type": "code",
   "execution_count": null,
   "metadata": {},
   "outputs": [],
   "source": []
  }
 ],
 "metadata": {
  "kernelspec": {
   "display_name": "Python 3",
   "language": "python",
   "name": "python3"
  },
  "language_info": {
   "codemirror_mode": {
    "name": "ipython",
    "version": 3
   },
   "file_extension": ".py",
   "mimetype": "text/x-python",
   "name": "python",
   "nbconvert_exporter": "python",
   "pygments_lexer": "ipython3",
   "version": "3.7.3"
  }
 },
 "nbformat": 4,
 "nbformat_minor": 2
}
